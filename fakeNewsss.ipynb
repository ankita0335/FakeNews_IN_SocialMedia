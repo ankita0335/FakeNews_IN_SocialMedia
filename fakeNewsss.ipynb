{
 "cells": [
  {
   "cell_type": "code",
   "execution_count": 1,
   "metadata": {},
   "outputs": [],
   "source": [
    "#--------------------------------------------------------------\n",
    "#Libraries included\n",
    "#--------------------------------------------------------------\n",
    "\n",
    "import pandas as pd\n",
    "from sklearn.model_selection import train_test_split\n",
    "import sklearn\n",
    "from sklearn.feature_extraction.text import CountVectorizer, TfidfVectorizer, HashingVectorizer\n",
    "from sklearn.naive_bayes import MultinomialNB  #used for text classsification problem\n",
    "from sklearn import metrics         #it contain functions for evaluating the performance of ml model, like accuracy, precision and other.\n",
    "from sklearn.metrics import confusion_matrix, ConfusionMatrixDisplay    #helps in understanding the performance of classifier.\n",
    "from matplotlib import pyplot as plt           #creating static, animated and interacted visualization\n",
    "from sklearn.linear_model import PassiveAggressiveClassifier #it is used where model can be updated new data without retraining from scratch.\n",
    "import itertools    #Provides functions like product() for generating combinations of elements from input iterables  \n",
    "                    #and combinations() for creating subsets of elements.\n",
    "import numpy as np  #is essential for tasks like data manipulation, linear algebra operations, random number generation, and more. \n"
   ]
  },
  {
   "cell_type": "code",
   "execution_count": 2,
   "metadata": {},
   "outputs": [],
   "source": [
    "\n",
    "#--------------------------------------------------------------\n",
    "# Importing dataset using pandas dataframe\n",
    "#--------------------------------------------------------------\n",
    "df = pd.read_csv(\"D:\\\\FakeNewss\\\\fake_or_real_news.csv\")\n"
   ]
  },
  {
   "cell_type": "code",
   "execution_count": 3,
   "metadata": {},
   "outputs": [
    {
     "name": "stdout",
     "output_type": "stream",
     "text": [
      "(6335, 4)\n"
     ]
    }
   ],
   "source": [
    "# Inspect shape of df\n",
    "print(df.shape)\n"
   ]
  },
  {
   "cell_type": "code",
   "execution_count": 4,
   "metadata": {},
   "outputs": [
    {
     "name": "stdout",
     "output_type": "stream",
     "text": [
      "   Unnamed: 0                                              title  \\\n",
      "0        8476                       You Can Smell Hillary’s Fear   \n",
      "1       10294  Watch The Exact Moment Paul Ryan Committed Pol...   \n",
      "2        3608        Kerry to go to Paris in gesture of sympathy   \n",
      "3       10142  Bernie supporters on Twitter erupt in anger ag...   \n",
      "4         875   The Battle of New York: Why This Primary Matters   \n",
      "\n",
      "                                                text label  \n",
      "0  Daniel Greenfield, a Shillman Journalism Fello...  FAKE  \n",
      "1  Google Pinterest Digg Linkedin Reddit Stumbleu...  FAKE  \n",
      "2  U.S. Secretary of State John F. Kerry said Mon...  REAL  \n",
      "3  — Kaydee King (@KaydeeKing) November 9, 2016 T...  FAKE  \n",
      "4  It's primary day in New York and front-runners...  REAL  \n"
     ]
    }
   ],
   "source": [
    "\n",
    "# Print first few lines of df\n",
    "print(df.head())\n",
    "\n"
   ]
  },
  {
   "cell_type": "code",
   "execution_count": 5,
   "metadata": {},
   "outputs": [
    {
     "name": "stdout",
     "output_type": "stream",
     "text": [
      "Index(['Unnamed: 0', 'title', 'text', 'label'], dtype='object')\n"
     ]
    }
   ],
   "source": [
    "\n",
    "# Display the columns to check for 'Unnamed: 0'\n",
    "print(df.columns)"
   ]
  },
  {
   "cell_type": "code",
   "execution_count": 6,
   "metadata": {},
   "outputs": [],
   "source": [
    "\n",
    "# If 'Unnamed: 0' is present, set it as the index\n",
    "if 'Unnamed: 0' in df.columns:\n",
    "    df = df.set_index('Unnamed: 0')\n",
    "else:\n",
    "    print(\"Column 'Unnamed: 0' not found. Available columns are:\", df.columns)\n"
   ]
  },
  {
   "cell_type": "code",
   "execution_count": 7,
   "metadata": {},
   "outputs": [
    {
     "name": "stdout",
     "output_type": "stream",
     "text": [
      "                                                        title  \\\n",
      "Unnamed: 0                                                      \n",
      "8476                             You Can Smell Hillary’s Fear   \n",
      "10294       Watch The Exact Moment Paul Ryan Committed Pol...   \n",
      "3608              Kerry to go to Paris in gesture of sympathy   \n",
      "10142       Bernie supporters on Twitter erupt in anger ag...   \n",
      "875          The Battle of New York: Why This Primary Matters   \n",
      "\n",
      "                                                         text label  \n",
      "Unnamed: 0                                                           \n",
      "8476        Daniel Greenfield, a Shillman Journalism Fello...  FAKE  \n",
      "10294       Google Pinterest Digg Linkedin Reddit Stumbleu...  FAKE  \n",
      "3608        U.S. Secretary of State John F. Kerry said Mon...  REAL  \n",
      "10142       — Kaydee King (@KaydeeKing) November 9, 2016 T...  FAKE  \n",
      "875         It's primary day in New York and front-runners...  REAL  \n"
     ]
    }
   ],
   "source": [
    "\n",
    "# Print first lines of df\n",
    "print(df.head())"
   ]
  },
  {
   "cell_type": "code",
   "execution_count": 8,
   "metadata": {},
   "outputs": [],
   "source": [
    "#--------------------------------------------------------------\n",
    "# Separate the labels and set up training and test datasets\n",
    "#--------------------------------------------------------------\n",
    "y = df.label\n",
    "\n",
    "# Drop the label column\n",
    "df.drop(\"label\", axis=1, inplace=True)  # where numbering of news article is done that column is dropped in dataset\n",
    "\n",
    "# Make training and test sets\n",
    "X_train, X_test, y_train, y_test = train_test_split(df['text'], y, test_size=0.33, random_state=53)\n",
    "\n",
    "\n",
    "\n",
    "#--------------------------------------------------------------\n",
    "# Building the Count and Tfidf Vectors\n",
    "# tfidf vectors are generally the -ve interger, or float values and count vectors are\n",
    "#the interger values\n",
    "#--------------------------------------------------------------\n",
    "#str:[\"My name is ANkita\" ,//0\n",
    "#    \"I am 20 years old\"]//1\n",
    "# Initialize the count_vectorizer ---- which converts text into a matrix of token counts, excluding English stop words.\n",
    "count_vectorizer = CountVectorizer(stop_words='english')\n",
    "\n",
    "# Fit and transform the training data\n",
    "count_train = count_vectorizer.fit_transform(X_train)  # Learn the vocabulary dictionary and return term-document matrix.\n",
    "\n",
    "# Transform the test set\n",
    "count_test = count_vectorizer.transform(X_test)\n",
    "\n",
    "\n",
    "# Initialize the tfidf_vectorizer ---which converts text into a matrix of TF-IDF features, excluding English stop words and terms that appear in more than 70% of the articles\n",
    "tfidf_vectorizer = TfidfVectorizer(stop_words='english', max_df=0.7)  # This removes words which appear in more than 70% of the articles\n",
    "\n",
    "# Fit and transform the training data\n",
    "tfidf_train = tfidf_vectorizer.fit_transform(X_train)\n",
    "\n",
    "# Transform the test set\n",
    "tfidf_test = tfidf_vectorizer.transform(X_test)\n"
   ]
  },
  {
   "cell_type": "code",
   "execution_count": 9,
   "metadata": {},
   "outputs": [
    {
     "name": "stdout",
     "output_type": "stream",
     "text": [
      "set()\n",
      "False\n",
      "   00  000  0000  00000031  000035  00006  0001  0001pt  000ft  000km  ...  \\\n",
      "0   0    0     0         0       0      0     0       0      0      0  ...   \n",
      "1   0    0     0         0       0      0     0       0      0      0  ...   \n",
      "2   0    0     0         0       0      0     0       0      0      0  ...   \n",
      "3   0    0     0         0       0      0     0       0      0      0  ...   \n",
      "4   0    0     0         0       0      0     0       0      0      0  ...   \n",
      "\n",
      "   حلب  عربي  عن  لم  ما  محاولات  من  هذا  والمرضى  ยงade  \n",
      "0    0     0   0   0   0        0   0    0        0      0  \n",
      "1    0     0   0   0   0        0   0    0        0      0  \n",
      "2    0     0   0   0   0        0   0    0        0      0  \n",
      "3    0     0   0   0   0        0   0    0        0      0  \n",
      "4    0     0   0   0   0        0   0    0        0      0  \n",
      "\n",
      "[5 rows x 56922 columns]\n",
      "    00  000  0000  00000031  000035  00006  0001  0001pt  000ft  000km  ...  \\\n",
      "0  0.0  0.0   0.0       0.0     0.0    0.0   0.0     0.0    0.0    0.0  ...   \n",
      "1  0.0  0.0   0.0       0.0     0.0    0.0   0.0     0.0    0.0    0.0  ...   \n",
      "2  0.0  0.0   0.0       0.0     0.0    0.0   0.0     0.0    0.0    0.0  ...   \n",
      "3  0.0  0.0   0.0       0.0     0.0    0.0   0.0     0.0    0.0    0.0  ...   \n",
      "4  0.0  0.0   0.0       0.0     0.0    0.0   0.0     0.0    0.0    0.0  ...   \n",
      "\n",
      "   حلب  عربي   عن   لم   ما  محاولات   من  هذا  والمرضى  ยงade  \n",
      "0  0.0   0.0  0.0  0.0  0.0      0.0  0.0  0.0      0.0    0.0  \n",
      "1  0.0   0.0  0.0  0.0  0.0      0.0  0.0  0.0      0.0    0.0  \n",
      "2  0.0   0.0  0.0  0.0  0.0      0.0  0.0  0.0      0.0    0.0  \n",
      "3  0.0   0.0  0.0  0.0  0.0      0.0  0.0  0.0      0.0    0.0  \n",
      "4  0.0   0.0  0.0  0.0  0.0      0.0  0.0  0.0      0.0    0.0  \n",
      "\n",
      "[5 rows x 56922 columns]\n"
     ]
    }
   ],
   "source": [
    "from sklearn.feature_extraction.text import CountVectorizer\n",
    "count_df = pd.DataFrame(count_train.A, columns=count_vectorizer.get_feature_names_out())\n",
    "\n",
    "tfidf_df = pd.DataFrame(tfidf_train.A, columns=tfidf_vectorizer.get_feature_names_out())\n",
    "\n",
    "difference = set(count_df.columns) - set(tfidf_df.columns)\n",
    "\n",
    "print(difference)\n",
    "\n",
    "# Check whether the DataFrames are equal\n",
    "print(count_df.equals(tfidf_df))\n",
    "\n",
    "print(count_df.head())\n",
    "\n",
    "print(tfidf_df.head())\n",
    "\n"
   ]
  },
  {
   "cell_type": "code",
   "execution_count": 10,
   "metadata": {},
   "outputs": [],
   "source": [
    "\n",
    "#--------------------------------------------------------------\n",
    "# Function to plot the confusion matrix\n",
    "#Plotting a confusion matrix is crucial for gaining a detail understanding of the model’s performance, identifying areas of improvement\n",
    "#--------------------------------------------------------------\n",
    "\n",
    "def plot_confusion_matrix(cm, classes,\n",
    "                          normalize=False,\n",
    "                          title='Confusion matrix',\n",
    "                          cmap=plt.cm.Blues):\n",
    "    \"\"\"\n",
    "    See full source and example:\n",
    "    http://scikit-learn.org/stable/auto_examples/model_selection/plot_confusion_matrix.html\n",
    "\n",
    "    This function prints and plots the confusion matrix.\n",
    "    Normalization can be applied by setting `normalize=True`.\n",
    "    \"\"\"\n",
    "    plt.imshow(cm, interpolation='nearest', cmap=cmap)\n",
    "    plt.title(title)\n",
    "    plt.colorbar()\n",
    "    tick_marks = np.arange(len(classes))\n",
    "    plt.xticks(tick_marks, classes, rotation=45)\n",
    "    plt.yticks(tick_marks, classes)\n",
    "\n",
    "    if normalize:\n",
    "        cm = cm.astype('float') / cm.sum(axis=1)[:, np.newaxis]\n",
    "        print(\"Normalized confusion matrix\")\n",
    "    else:\n",
    "        print('Confusion matrix, without normalization')\n",
    "\n",
    "    thresh = cm.max() / 2.\n",
    "    for i, j in itertools.product(range(cm.shape[0]), range(cm.shape[1])):\n",
    "        plt.text(j, i, cm[i, j],\n",
    "                 horizontalalignment=\"center\",\n",
    "                 color=\"white\" if cm[i, j] > thresh else \"black\")\n",
    "\n",
    "    plt.tight_layout()\n",
    "    plt.ylabel('True label')\n",
    "    plt.xlabel('Predicted label')\n",
    "\n"
   ]
  },
  {
   "cell_type": "code",
   "execution_count": 11,
   "metadata": {},
   "outputs": [
    {
     "name": "stdout",
     "output_type": "stream",
     "text": [
      "accuracy:   0.857\n"
     ]
    },
    {
     "name": "stdout",
     "output_type": "stream",
     "text": [
      "Confusion matrix, without normalization\n",
      "[[ 739  269]\n",
      " [  31 1052]]\n",
      "accuracy:   0.893\n",
      "Confusion matrix, without normalization\n",
      "[[ 865  143]\n",
      " [  80 1003]]\n"
     ]
    },
    {
     "data": {
      "image/png": "[encoded data removed]",
      "text/plain": [
       "<Figure size 640x480 with 3 Axes>"
      ]
     },
     "metadata": {},
     "output_type": "display_data"
    }
   ],
   "source": [
    "\n",
    "#--------------------------------------------------------------\n",
    "# Naive Bayes classifier for Multinomial model\n",
    "#--------------------------------------------------------------\n",
    "#it assume feature is conditinally independent\n",
    "\n",
    "clf = MultinomialNB()\n",
    "\n",
    "clf.fit(tfidf_train, y_train)                       # Fit Naive Bayes classifier according to X, y\n",
    "\n",
    "pred = clf.predict(tfidf_test)                     # Perform classification on an array of test vectors X.\n",
    "score = metrics.accuracy_score(y_test, pred)\n",
    "print(\"accuracy:   %0.3f\" % score)\n",
    "cm = metrics.confusion_matrix(y_test, pred, labels=['FAKE', 'REAL'])\n",
    "plot_confusion_matrix(cm, classes=['FAKE', 'REAL'])\n",
    "print(cm)\n",
    "\n",
    "\n",
    "clf = MultinomialNB()\n",
    "\n",
    "clf.fit(count_train, y_train)\n",
    "\n",
    "pred = clf.predict(count_test)\n",
    "score = metrics.accuracy_score(y_test, pred)\n",
    "print(\"accuracy:   %0.3f\" % score)\n",
    "cm = metrics.confusion_matrix(y_test, pred, labels=['FAKE', 'REAL'])\n",
    "plot_confusion_matrix(cm, classes=['FAKE', 'REAL'])\n",
    "print(cm)\n"
   ]
  },
  {
   "cell_type": "code",
   "execution_count": 12,
   "metadata": {},
   "outputs": [
    {
     "name": "stdout",
     "output_type": "stream",
     "text": [
      "accuracy:   0.935\n",
      "Confusion matrix, without normalization\n",
      "[[ 951   57]\n",
      " [  78 1005]]\n",
      "Alpha: 0.00 Score: 0.88140\n",
      "Alpha: 0.10 Score: 0.89766\n",
      "Alpha: 0.20 Score: 0.89383\n",
      "Alpha: 0.30 Score: 0.89000\n"
     ]
    },
    {
     "name": "stderr",
     "output_type": "stream",
     "text": [
      "c:\\Users\\ankita chaturvedi\\AppData\\Local\\Programs\\Python\\Python311\\Lib\\site-packages\\sklearn\\naive_bayes.py:627: FutureWarning: The default value for `force_alpha` will change to `True` in 1.4. To suppress this warning, manually set the value of `force_alpha`.\n",
      "  warnings.warn(\n",
      "c:\\Users\\ankita chaturvedi\\AppData\\Local\\Programs\\Python\\Python311\\Lib\\site-packages\\sklearn\\naive_bayes.py:633: UserWarning: alpha too small will result in numeric errors, setting alpha = 1.0e-10. Use `force_alpha=True` to keep alpha unchanged.\n",
      "  warnings.warn(\n"
     ]
    },
    {
     "name": "stdout",
     "output_type": "stream",
     "text": [
      "Alpha: 0.40 Score: 0.88570\n",
      "Alpha: 0.50 Score: 0.88427\n",
      "Alpha: 0.60 Score: 0.87470\n",
      "Alpha: 0.70 Score: 0.87040\n",
      "Alpha: 0.80 Score: 0.86609\n",
      "Alpha: 0.90 Score: 0.85892\n",
      "FAKE -5.03851177366588 2016\n",
      "FAKE -4.072582149063963 hillary\n",
      "FAKE -4.039152893513516 october\n",
      "FAKE -3.1823692007101596 article\n",
      "FAKE -3.066900024826035 share\n",
      "FAKE -2.918436682905499 november\n",
      "FAKE -2.5123095189113185 print\n",
      "FAKE -2.334574781167009 oct\n",
      "FAKE -2.3281955222918187 source\n",
      "FAKE -2.307878809917056 podesta\n",
      "FAKE -2.265812208222702 advertisement\n",
      "FAKE -2.2086908536858645 email\n",
      "FAKE -2.116460843644308 war\n",
      "FAKE -2.108335175513521 election\n",
      "FAKE -2.083870372716056 mosul\n",
      "FAKE -2.060951445140615 nov\n",
      "FAKE -1.9435045782955462 corporate\n",
      "FAKE -1.8778680568399522 pipeline\n",
      "FAKE -1.8560877664131104 establishment\n",
      "FAKE -1.820576442994636 wikileaks\n",
      "FAKE -1.8035601087779771 26\n",
      "FAKE -1.7917834412746791 jewish\n",
      "FAKE -1.7552498913156702 brexit\n",
      "FAKE -1.7427872804048656 ayotte\n",
      "FAKE -1.715028241200696 com\n",
      "FAKE -1.6870584972939284 dr\n",
      "FAKE -1.677481639653309 snip\n",
      "FAKE -1.632616225261486 donald\n",
      "FAKE -1.6275455101286675 photo\n",
      "FAKE -1.6012881679262605 healthcare\n",
      "\n",
      "REAL 4.957715705126682 said\n",
      "REAL 2.693049006368333 says\n",
      "REAL 2.6060806151361215 tuesday\n",
      "REAL 2.569428965431052 friday\n",
      "REAL 2.396240110920299 gop\n",
      "REAL 2.3456106831429038 candidates\n",
      "REAL 2.305060675328611 rush\n",
      "REAL 2.247253741965203 islamic\n",
      "REAL 2.237843908208209 monday\n",
      "REAL 2.187478603066507 marriage\n",
      "REAL 2.1185160359346207 conservative\n",
      "REAL 2.1140708361365332 cruz\n",
      "REAL 2.0974101321477288 continue\n",
      "REAL 2.0516048313756414 jobs\n",
      "REAL 2.036853125967227 sunday\n",
      "REAL 1.9593173479760477 presumptive\n",
      "REAL 1.9584028452842166 attacks\n",
      "REAL 1.8619251032422524 deal\n",
      "REAL 1.8542237693157795 convention\n",
      "REAL 1.8396654491734765 march\n",
      "REAL 1.836603620269322 debate\n",
      "REAL 1.8128152008502074 conservatives\n",
      "REAL 1.762691170122052 sen\n",
      "REAL 1.758513818801409 paris\n",
      "REAL 1.7044359253973524 week\n",
      "REAL 1.7008845267872237 group\n",
      "REAL 1.6764327887680743 reform\n",
      "REAL 1.6738905623920286 fox\n",
      "REAL 1.6478586528887902 nomination\n",
      "REAL 1.6309769075511165 recounts\n"
     ]
    },
    {
     "data": {
      "image/png": "[encoded data removed]",
      "text/plain": [
       "<Figure size 640x480 with 2 Axes>"
      ]
     },
     "metadata": {},
     "output_type": "display_data"
    }
   ],
   "source": [
    "\n",
    "#--------------------------------------------------------------\n",
    "# Applying Passive Aggressive Classifier\n",
    "#--------------------------------------------------------------\n",
    "linear_clf = PassiveAggressiveClassifier(max_iter=50) # Use max_iter instead of n_iter\n",
    "\n",
    "linear_clf.fit(tfidf_train, y_train)\n",
    "pred = linear_clf.predict(tfidf_test)\n",
    "score = metrics.accuracy_score(y_test, pred)\n",
    "print(\"accuracy:   %0.3f\" % score)\n",
    "cm = metrics.confusion_matrix(y_test, pred, labels=['FAKE', 'REAL'])\n",
    "plot_confusion_matrix(cm, classes=['FAKE', 'REAL'])\n",
    "print(cm)\n",
    "\n",
    "clf = MultinomialNB(alpha=0.1)               \n",
    "\n",
    "\n",
    "last_score = 0\n",
    "for alpha in np.arange(0,1,.1):\n",
    "    nb_classifier = MultinomialNB(alpha=alpha)\n",
    "    nb_classifier.fit(tfidf_train, y_train)\n",
    "    pred = nb_classifier.predict(tfidf_test)\n",
    "    score = metrics.accuracy_score(y_test, pred)\n",
    "    if score > last_score:\n",
    "        clf = nb_classifier\n",
    "    print(\"Alpha: {:.2f} Score: {:.5f}\".format(alpha, score))\n",
    "\n",
    "\n",
    "def most_informative_feature_for_binary_classification(vectorizer, classifier, n=100):       # inspect the top 30 vectors for fake and real news\n",
    "    \"\"\"\n",
    "    See: https://stackoverflow.com/a/26980472\n",
    "\n",
    "    Identify most important features if given a vectorizer and binary classifier. Set n to the number\n",
    "    of weighted features you would like to show. (Note: current implementation merely prints and does not\n",
    "    return top classes.)\n",
    "    \"\"\"\n",
    "\n",
    "    class_labels = classifier.classes_\n",
    "    feature_names = vectorizer.get_feature_names_out()                                            # Array mapping from feature integer indices to feature name\n",
    "    topn_class1 = sorted(zip(classifier.coef_[0], feature_names))[:n]\n",
    "    topn_class2 = sorted(zip(classifier.coef_[0], feature_names))[-n:]\n",
    "\n",
    "    for coef, feat in topn_class1:\n",
    "        print(class_labels[0], coef, feat)\n",
    "\n",
    "    print()\n",
    "\n",
    "    for coef, feat in reversed(topn_class2):\n",
    "        print(class_labels[1], coef, feat)\n",
    "\n",
    "most_informative_feature_for_binary_classification(tfidf_vectorizer, linear_clf, n=30)\n",
    "feature_names = tfidf_vectorizer.get_feature_names_out()\n"
   ]
  },
  {
   "cell_type": "code",
   "execution_count": 13,
   "metadata": {},
   "outputs": [],
   "source": [
    "\n",
    "### Most real\n",
    "sorted(zip(clf.feature_log_prob_[0], feature_names), reverse=True)[:20]\n",
    "\n",
    "### Most fake\n",
    "sorted(zip(clf.feature_log_prob_[0], feature_names))[:20]                               # clearly there are certain words which might show political intent and source in the top fake features (such as the words corporate and establishment).\n",
    "\n",
    "tokens_with_weights = sorted(list(zip(feature_names, clf.feature_log_prob_[0])))\n",
    "#print(tokens_with_weights)"
   ]
  },
  {
   "cell_type": "code",
   "execution_count": 14,
   "metadata": {},
   "outputs": [],
   "source": [
    "\n",
    "from sklearn.feature_extraction.text import HashingVectorizer\n",
    "\n",
    "#--------------------------------------------------------------\n",
    "# HashingVectorizer : require less memory and are faster (because they are sparse and use hashes rather than tokens)\n",
    "#--------------------------------------------------------------\n",
    "\n",
    "\n",
    "hash_vectorizer = HashingVectorizer(stop_words='english') # Removed non_negative argument as it's no longer supported\n",
    "hash_train = hash_vectorizer.fit_transform(X_train)\n",
    "hash_test = hash_vectorizer.transform(X_test)\n"
   ]
  },
  {
   "cell_type": "code",
   "execution_count": 15,
   "metadata": {},
   "outputs": [
    {
     "name": "stdout",
     "output_type": "stream",
     "text": [
      "accuracy:   0.918\n",
      "Confusion matrix, without normalization\n",
      "[[931  77]\n",
      " [ 94 989]]\n"
     ]
    },
    {
     "data": {
      "image/png": "[encoded data removed]",
      "text/plain": [
       "<Figure size 640x480 with 2 Axes>"
      ]
     },
     "metadata": {},
     "output_type": "display_data"
    }
   ],
   "source": [
    "\n",
    "#--------------------------------------------------------------\n",
    "# Applying Passive Aggressive Classifier , model can be updated with new data without retraining from scratch.\n",
    "#--------------------------------------------------------------\n",
    "clf = PassiveAggressiveClassifier(max_iter=50)\n",
    "clf.fit(hash_train, y_train)\n",
    "pred = clf.predict(hash_test)\n",
    "score = metrics.accuracy_score(y_test, pred)\n",
    "print(\"accuracy:   %0.3f\" % score)\n",
    "cm = metrics.confusion_matrix(y_test, pred, labels=['FAKE', 'REAL'])\n",
    "plot_confusion_matrix(cm, classes=['FAKE', 'REAL'])\n",
    "print(cm)\n",
    "\n",
    "from sklearn.svm import LinearSVC\n",
    "from sklearn.model_selection import GridSearchCV\n",
    "from sklearn import metrics\n"
   ]
  },
  {
   "cell_type": "code",
   "execution_count": 16,
   "metadata": {},
   "outputs": [
    {
     "name": "stderr",
     "output_type": "stream",
     "text": [
      "c:\\Users\\ankita chaturvedi\\AppData\\Local\\Programs\\Python\\Python311\\Lib\\site-packages\\sklearn\\svm\\_base.py:1244: ConvergenceWarning: Liblinear failed to converge, increase the number of iterations.\n",
      "  warnings.warn(\n",
      "c:\\Users\\ankita chaturvedi\\AppData\\Local\\Programs\\Python\\Python311\\Lib\\site-packages\\sklearn\\svm\\_base.py:1244: ConvergenceWarning: Liblinear failed to converge, increase the number of iterations.\n",
      "  warnings.warn(\n",
      "c:\\Users\\ankita chaturvedi\\AppData\\Local\\Programs\\Python\\Python311\\Lib\\site-packages\\sklearn\\svm\\_base.py:1244: ConvergenceWarning: Liblinear failed to converge, increase the number of iterations.\n",
      "  warnings.warn(\n",
      "c:\\Users\\ankita chaturvedi\\AppData\\Local\\Programs\\Python\\Python311\\Lib\\site-packages\\sklearn\\svm\\_base.py:1244: ConvergenceWarning: Liblinear failed to converge, increase the number of iterations.\n",
      "  warnings.warn(\n",
      "c:\\Users\\ankita chaturvedi\\AppData\\Local\\Programs\\Python\\Python311\\Lib\\site-packages\\sklearn\\svm\\_base.py:1244: ConvergenceWarning: Liblinear failed to converge, increase the number of iterations.\n",
      "  warnings.warn(\n"
     ]
    },
    {
     "name": "stdout",
     "output_type": "stream",
     "text": [
      "Best parameters: {'C': 1}\n",
      "Best cross-validation score: 0.9311940240460475\n",
      "Test set accuracy: 0.936\n",
      "Confusion matrix, without normalization\n",
      "[[969  39]\n",
      " [ 94 989]]\n"
     ]
    },
    {
     "data": {
      "image/png": "[encoded data removed]",
      "text/plain": [
       "<Figure size 640x480 with 2 Axes>"
      ]
     },
     "metadata": {},
     "output_type": "display_data"
    }
   ],
   "source": [
    "#it create hyperplane , 1st is reliable other unreliable \n",
    "#it is used to separate data into 2 classes(true or false)\n",
    "#It looks for a line that maximizes the distance between the closest fake and real news points to this line.\n",
    "# Define the parameter grid for SVM\n",
    "param_grid = {\n",
    "    'C': [0.1, 1, 10, 100]\n",
    "}\n",
    "\n",
    "# Initialize the SVM model\n",
    "svm = LinearSVC()\n",
    "\n",
    "# Initialize GridSearchCV\n",
    "grid_search = GridSearchCV(svm, param_grid, cv=5, scoring='accuracy')\n",
    "\n",
    "# Fit the model\n",
    "grid_search.fit(tfidf_train, y_train)\n",
    "\n",
    "# Print the best parameters and the best score\n",
    "print(\"Best parameters:\", grid_search.best_params_)\n",
    "print(\"Best cross-validation score:\", grid_search.best_score_)\n",
    "\n",
    "# Evaluate on the test set\n",
    "best_svm = grid_search.best_estimator_\n",
    "pred = best_svm.predict(tfidf_test)\n",
    "score = metrics.accuracy_score(y_test, pred)\n",
    "print(\"Test set accuracy: {:.3f}\".format(score))\n",
    "\n",
    "# Plot confusion matrix\n",
    "cm = metrics.confusion_matrix(y_test, pred, labels=['FAKE', 'REAL'])\n",
    "plot_confusion_matrix(cm, classes=['FAKE', 'REAL'])\n",
    "print(cm)\n"
   ]
  }
 ],
 "metadata": {
  "kernelspec": {
   "display_name": "Python 3",
   "language": "python",
   "name": "python3"
  },
  "language_info": {
   "codemirror_mode": {
    "name": "ipython",
    "version": 3
   },
   "file_extension": ".py",
   "mimetype": "text/x-python",
   "name": "python",
   "nbconvert_exporter": "python",
   "pygments_lexer": "ipython3",
   "version": "3.11.1"
  }
 },
 "nbformat": 4,
 "nbformat_minor": 2
}
